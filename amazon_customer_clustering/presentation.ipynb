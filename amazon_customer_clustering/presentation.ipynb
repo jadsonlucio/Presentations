{
 "cells": [
  {
   "cell_type": "markdown",
   "metadata": {
    "colab_type": "text",
    "id": "fMKDvt6dRM67",
    "slideshow": {
     "slide_type": "skip"
    }
   },
   "source": [
    "# Conecta ao google drive"
   ]
  },
  {
   "cell_type": "code",
   "execution_count": 13,
   "metadata": {
    "colab": {
     "base_uri": "https://localhost:8080/",
     "height": 35
    },
    "colab_type": "code",
    "executionInfo": {
     "elapsed": 1215,
     "status": "ok",
     "timestamp": 1545225685357,
     "user": {
      "displayName": "Francisco Neto",
      "photoUrl": "https://lh5.googleusercontent.com/-1SUFg21pUOs/AAAAAAAAAAI/AAAAAAAADio/Tl3fkhIuJI4/s64/photo.jpg",
      "userId": "00985066420011675306"
     },
     "user_tz": 180
    },
    "id": "H4b6kejfRTO-",
    "outputId": "1414202d-d3e0-4699-fe8f-9a4a710b9631",
    "slideshow": {
     "slide_type": "skip"
    }
   },
   "outputs": [
    {
     "name": "stdout",
     "output_type": "stream",
     "text": [
      "Drive already mounted at /drive; to attempt to forcibly remount, call drive.mount(\"/drive\", force_remount=True).\n"
     ]
    }
   ],
   "source": [
    "import os\n",
    "from google.colab import drive\n",
    "\n",
    "drive.mount('/drive')\n",
    "os.chdir('/drive/My Drive/UFAL/AM/Trabalho/Parte 1 - KNN/presentation')"
   ]
  },
  {
   "cell_type": "code",
   "execution_count": 0,
   "metadata": {
    "colab": {},
    "colab_type": "code",
    "id": "n9pDuduFRDQ5",
    "slideshow": {
     "slide_type": "skip"
    }
   },
   "outputs": [],
   "source": [
    "import pandas as pd\n",
    "import seaborn as sb\n",
    "import numpy as np\n",
    "import matplotlib.pyplot as plt\n",
    "from datetime import datetime\n",
    "from collections import Counter\n",
    "from mpl_toolkits.mplot3d import Axes3D\n",
    "from sklearn.neighbors import KNeighborsRegressor\n",
    "from collections import Counter\n",
    "\n",
    "import warnings\n",
    "warnings.filterwarnings('ignore')"
   ]
  },
  {
   "cell_type": "code",
   "execution_count": 0,
   "metadata": {
    "colab": {},
    "colab_type": "code",
    "id": "gtJo36s6RDRO",
    "slideshow": {
     "slide_type": "skip"
    }
   },
   "outputs": [],
   "source": [
    "# load dataset \n",
    "dataset = pd.read_csv(\"datasets/WithoutSimilarProd.csv\")\n",
    "_dataset = dataset.drop([\"TextSentiment\", \"SummarySentiment\", \"TaxaCurtidas\", \"TextSize\", \"ScoreNorm\"],axis = 1)\n",
    "user_dataset = pd.read_csv(\"datasets/UserDatasetWithoutClass.csv\", index_col = 0)\n",
    "user_dataset_not_norm = pd.read_csv(\"datasets/UserDatasetWithoutNorm.csv\", index_col = 0)\n",
    "centroids_dataframe = pd.read_csv(\"datasets/kmeans_centroids.csv\")\n",
    "\n",
    "dict_users_reviews = Counter(dataset[\"UserId\"])\n",
    "dataset_users_reviews = pd.DataFrame(data = [[id,num_reviews] for id,num_reviews in dict_users_reviews.items() if num_reviews< 10], columns = [\"id\", \"reviews\"])"
   ]
  },
  {
   "cell_type": "code",
   "execution_count": 0,
   "metadata": {
    "colab": {},
    "colab_type": "code",
    "id": "nGvfMN8RRDRb",
    "slideshow": {
     "slide_type": "skip"
    }
   },
   "outputs": [],
   "source": [
    "def plot_clusters(data_clusters):\n",
    "    fig = plt.figure()\n",
    "    ax = fig.add_subplot(111, projection='3d')\n",
    "    cmap=plt.cm.get_cmap(\"Accent_r\")\n",
    "    \n",
    "    cont=0\n",
    "    for data in data_clusters:\n",
    "        x = []\n",
    "        y = []\n",
    "        z = []\n",
    "        for data_point in data:\n",
    "            x.append(data_point[0])\n",
    "            y.append(data_point[1])\n",
    "            z.append(data_point[2])\n",
    "        ax.scatter(x, y, z, marker='o',label=\"cluster \"+str(cont))\n",
    "        cont=cont+1\n",
    "\n",
    "    ax.set_xlabel('X Label')\n",
    "    ax.set_ylabel('Y Label')\n",
    "    ax.set_zlabel('Z Label')\n",
    "    ax.legend()\n",
    "    \n",
    "    return fig"
   ]
  },
  {
   "cell_type": "code",
   "execution_count": 0,
   "metadata": {
    "colab": {},
    "colab_type": "code",
    "id": "K0aTbz7NRDRr",
    "slideshow": {
     "slide_type": "skip"
    }
   },
   "outputs": [],
   "source": [
    "# create clustes\n",
    "def create_clusters(data, labels):\n",
    "    cluster_1_users = []\n",
    "    cluster_2_users = []\n",
    "    for instance_transform, label in zip(data,labels):\n",
    "        if label:\n",
    "            cluster_1_users.append(instance_transform)\n",
    "        else:\n",
    "            cluster_2_users.append(instance_transform)\n",
    "    \n",
    "    return cluster_1_users,cluster_2_users\n"
   ]
  },
  {
   "cell_type": "markdown",
   "metadata": {
    "colab_type": "text",
    "id": "4TwdpVWLG8Lt",
    "slideshow": {
     "slide_type": "slide"
    }
   },
   "source": [
    "# Amazon product reviewers classification\n",
    "<h3>\n",
    "Link do dataset no kaggle: <a href=\"https://www.kaggle.com/snap/amazon-fine-food-reviews\">https://www.kaggle.com/snap/amazon-fine-food-reviews</a><br>\n",
    "Link da fonte original: <a href=\"https://snap.stanford.edu/data/web-Amazon.html\">https://www.kaggle.com/snap/amazon-fine-food-reviews</a>\n",
    "<h3>\n"
   ]
  },
  {
   "cell_type": "markdown",
   "metadata": {
    "colab_type": "text",
    "id": "Xb8KokFfRDR3",
    "slideshow": {
     "slide_type": "slide"
    }
   },
   "source": [
    "# Sobre o dataset\n",
    "## Os dados consistem em revisões de alimentos da amazom que abrangem um período de mais de 10 anos, incluindo todas as ~ 500.000 revisões até outubro de 2012. As revisões incluem informações sobre produtos e usuários, classificações e uma revisão de texto simples. Também inclui revisões de todas as outras categorias da Amazon."
   ]
  },
  {
   "cell_type": "markdown",
   "metadata": {
    "colab_type": "text",
    "id": "dNDj0gAeRDR6",
    "slideshow": {
     "slide_type": "slide"
    }
   },
   "source": [
    "# Descrição dos atributos"
   ]
  },
  {
   "cell_type": "code",
   "execution_count": 0,
   "metadata": {
    "colab": {
     "base_uri": "https://localhost:8080/",
     "height": 227
    },
    "colab_type": "code",
    "executionInfo": {
     "elapsed": 722,
     "status": "ok",
     "timestamp": 1545201239980,
     "user": {
      "displayName": "jadson lucio",
      "photoUrl": "",
      "userId": "11621358175551211864"
     },
     "user_tz": 180
    },
    "id": "PNCskF6bRDR9",
    "outputId": "f20cf2cd-9026-43ad-d4fe-4cd25cf86f0b",
    "slideshow": {
     "slide_type": "fragment"
    }
   },
   "outputs": [
    {
     "data": {
      "text/html": [
       "<div>\n",
       "<style scoped>\n",
       "    .dataframe tbody tr th:only-of-type {\n",
       "        vertical-align: middle;\n",
       "    }\n",
       "\n",
       "    .dataframe tbody tr th {\n",
       "        vertical-align: top;\n",
       "    }\n",
       "\n",
       "    .dataframe thead th {\n",
       "        text-align: right;\n",
       "    }\n",
       "</style>\n",
       "<table border=\"1\" class=\"dataframe\">\n",
       "  <thead>\n",
       "    <tr style=\"text-align: right;\">\n",
       "      <th></th>\n",
       "      <th>Id</th>\n",
       "      <th>ProductId</th>\n",
       "      <th>UserId</th>\n",
       "      <th>ProfileName</th>\n",
       "      <th>HelpfulnessNumerator</th>\n",
       "      <th>HelpfulnessDenominator</th>\n",
       "      <th>Score</th>\n",
       "      <th>Time</th>\n",
       "      <th>Summary</th>\n",
       "      <th>Text</th>\n",
       "    </tr>\n",
       "  </thead>\n",
       "  <tbody>\n",
       "    <tr>\n",
       "      <th>0</th>\n",
       "      <td>1</td>\n",
       "      <td>B001E4KFG0</td>\n",
       "      <td>A3SGXH7AUHU8GW</td>\n",
       "      <td>delmartian</td>\n",
       "      <td>1</td>\n",
       "      <td>1</td>\n",
       "      <td>5</td>\n",
       "      <td>1303862400</td>\n",
       "      <td>Good Quality Dog Food</td>\n",
       "      <td>I have bought several of the Vitality canned d...</td>\n",
       "    </tr>\n",
       "    <tr>\n",
       "      <th>1</th>\n",
       "      <td>2</td>\n",
       "      <td>B00813GRG4</td>\n",
       "      <td>A1D87F6ZCVE5NK</td>\n",
       "      <td>dll pa</td>\n",
       "      <td>0</td>\n",
       "      <td>0</td>\n",
       "      <td>1</td>\n",
       "      <td>1346976000</td>\n",
       "      <td>Not as Advertised</td>\n",
       "      <td>Product arrived labeled as Jumbo Salted Peanut...</td>\n",
       "    </tr>\n",
       "    <tr>\n",
       "      <th>2</th>\n",
       "      <td>3</td>\n",
       "      <td>B000LQOCH0</td>\n",
       "      <td>ABXLMWJIXXAIN</td>\n",
       "      <td>Natalia Corres \"Natalia Corres\"</td>\n",
       "      <td>1</td>\n",
       "      <td>1</td>\n",
       "      <td>4</td>\n",
       "      <td>1219017600</td>\n",
       "      <td>\"Delight\" says it all</td>\n",
       "      <td>This is a confection that has been around a fe...</td>\n",
       "    </tr>\n",
       "  </tbody>\n",
       "</table>\n",
       "</div>"
      ],
      "text/plain": [
       "   Id   ProductId          UserId                      ProfileName  \\\n",
       "0   1  B001E4KFG0  A3SGXH7AUHU8GW                       delmartian   \n",
       "1   2  B00813GRG4  A1D87F6ZCVE5NK                           dll pa   \n",
       "2   3  B000LQOCH0   ABXLMWJIXXAIN  Natalia Corres \"Natalia Corres\"   \n",
       "\n",
       "   HelpfulnessNumerator  HelpfulnessDenominator  Score        Time  \\\n",
       "0                     1                       1      5  1303862400   \n",
       "1                     0                       0      1  1346976000   \n",
       "2                     1                       1      4  1219017600   \n",
       "\n",
       "                 Summary                                               Text  \n",
       "0  Good Quality Dog Food  I have bought several of the Vitality canned d...  \n",
       "1      Not as Advertised  Product arrived labeled as Jumbo Salted Peanut...  \n",
       "2  \"Delight\" says it all  This is a confection that has been around a fe...  "
      ]
     },
     "execution_count": 41,
     "metadata": {
      "tags": []
     },
     "output_type": "execute_result"
    }
   ],
   "source": [
    "_dataset.head(3)"
   ]
  },
  {
   "cell_type": "markdown",
   "metadata": {
    "colab_type": "text",
    "id": "JNGoF6MERDSY",
    "slideshow": {
     "slide_type": "slide"
    }
   },
   "source": [
    "# Distribuição do score"
   ]
  },
  {
   "cell_type": "code",
   "execution_count": 0,
   "metadata": {
    "colab": {
     "base_uri": "https://localhost:8080/",
     "height": 378
    },
    "colab_type": "code",
    "executionInfo": {
     "elapsed": 852,
     "status": "ok",
     "timestamp": 1545137132262,
     "user": {
      "displayName": "jadson lucio",
      "photoUrl": "",
      "userId": "11621358175551211864"
     },
     "user_tz": 180
    },
    "id": "HD2gda4ORDSe",
    "outputId": "43f7379c-250e-4f96-f8ef-89a93ab6319a",
    "scrolled": true,
    "slideshow": {
     "slide_type": "fragment"
    }
   },
   "outputs": [
    {
     "data": {
      "text/plain": [
       "<matplotlib.axes._subplots.AxesSubplot at 0x7fcd803d3550>"
      ]
     },
     "execution_count": 29,
     "metadata": {
      "tags": []
     },
     "output_type": "execute_result"
    },
    {
     "data": {
      "image/png": "[encoded data removed]",
      "text/plain": [
       "<matplotlib.figure.Figure at 0x7fcd81700048>"
      ]
     },
     "metadata": {
      "tags": []
     },
     "output_type": "display_data"
    }
   ],
   "source": [
    "sb.countplot(data = dataset, x = \"Score\")"
   ]
  },
  {
   "cell_type": "markdown",
   "metadata": {
    "colab_type": "text",
    "id": "w8WqnwvhSrAY",
    "slideshow": {
     "slide_type": "slide"
    }
   },
   "source": [
    "# Distribuição do números de reviews por usuários"
   ]
  },
  {
   "cell_type": "code",
   "execution_count": 0,
   "metadata": {
    "colab": {
     "base_uri": "https://localhost:8080/",
     "height": 378
    },
    "colab_type": "code",
    "executionInfo": {
     "elapsed": 699,
     "status": "ok",
     "timestamp": 1545137262704,
     "user": {
      "displayName": "jadson lucio",
      "photoUrl": "",
      "userId": "11621358175551211864"
     },
     "user_tz": 180
    },
    "id": "L8Z-uDrZS7rj",
    "outputId": "590ee7bc-0c15-40c3-e776-01e5befd890f",
    "slideshow": {
     "slide_type": "fragment"
    }
   },
   "outputs": [
    {
     "data": {
      "text/plain": [
       "<matplotlib.axes._subplots.AxesSubplot at 0x7fcd82cd1780>"
      ]
     },
     "execution_count": 33,
     "metadata": {
      "tags": []
     },
     "output_type": "execute_result"
    },
    {
     "data": {
      "image/png": "[encoded data removed]",
      "text/plain": [
       "<matplotlib.figure.Figure at 0x7fcd8178d7f0>"
      ]
     },
     "metadata": {
      "tags": []
     },
     "output_type": "display_data"
    }
   ],
   "source": [
    "sb.countplot(data = dataset_users_reviews, x = \"reviews\", ax = ax)"
   ]
  },
  {
   "cell_type": "markdown",
   "metadata": {
    "colab_type": "text",
    "id": "AYnGbU58RDSP",
    "slideshow": {
     "slide_type": "slide"
    }
   },
   "source": [
    "# O que é uma boa review?"
   ]
  },
  {
   "cell_type": "markdown",
   "metadata": {
    "colab_type": "text",
    "id": "cJhwAnPRRDST"
   },
   "source": [
    "<ol>\n",
    "    <span class=\"fragment\" data-fragment-index=\"1\"><li>Coerencia entre o score dado e o sentimento do texto</li></span>\n",
    "    <span class=\"fragment\" data-fragment-index=\"2\"><li>Informações passadas pelo texto</li></span>\n",
    "    <span class=\"fragment\" data-fragment-index=\"3\"><li>Quantidade de avaliações positivas e negativas</li></span>\n",
    "    <span class=\"fragment\" data-fragment-index=\"4\"><li>Relação entre o score do usuário com os demais usuários</li></span>\n",
    "    <span class=\"fragment\" data-fragment-index=\"5\"><li>Número de avaliações anteriores do usuário que fez a review</li></span>\n",
    "    <span class=\"fragment\" data-fragment-index=\"6\"><li>Porcentagem de avaliações positivas</li></span>\n",
    "</ol>"
   ]
  },
  {
   "cell_type": "markdown",
   "metadata": {
    "colab_type": "text",
    "id": "DPj_oPFLRDSt",
    "slideshow": {
     "slide_type": "slide"
    }
   },
   "source": [
    "# Pré-processamento\n",
    "### 1. Retirada dos produtos semelhantes\n",
    "### 2. Seleção dos usuários com mais de 10 reviews\n",
    "### 3. Análise de sentimento do Summary e Text\n",
    "### 4.Tamanho do texto e  score normalizado\n",
    "### 5. Extração de caracteristicas"
   ]
  },
  {
   "cell_type": "markdown",
   "metadata": {
    "colab_type": "text",
    "id": "TyLkItMERDS1",
    "slideshow": {
     "slide_type": "slide"
    }
   },
   "source": [
    "# Produtos semelhantes\n",
    "<table>\n",
    "    <thead>\n",
    "      <tr>\n",
    "        <th>B005ZBZLT4</th>\n",
    "        <th>B007Y59HVM</th>\n",
    "      </tr>\n",
    "   </thead>\n",
    "  <tr>\n",
    "    <td> <img src=\"img/cafe_0.jpg\" alt=\"Drawing\" style=\"width: 400px;\"/> </td>\n",
    "    <td> <img src=\"img/cafe_1.jpg\" alt=\"Drawing\" style=\"width: 400px;\"/> </td>\n",
    "  </tr>\n",
    "</table>"
   ]
  },
  {
   "cell_type": "markdown",
   "metadata": {
    "colab_type": "text",
    "id": "5Ln8_l9VRDS5",
    "slideshow": {
     "slide_type": "slide"
    }
   },
   "source": [
    "# Seleção de usuários"
   ]
  },
  {
   "cell_type": "code",
   "execution_count": 0,
   "metadata": {
    "colab": {
     "base_uri": "https://localhost:8080/",
     "height": 162
    },
    "colab_type": "code",
    "executionInfo": {
     "elapsed": 815,
     "status": "ok",
     "timestamp": 1545201332841,
     "user": {
      "displayName": "jadson lucio",
      "photoUrl": "",
      "userId": "11621358175551211864"
     },
     "user_tz": 180
    },
    "id": "AfgyU0QoRDTE",
    "outputId": "62667445-a3e8-42b4-86d9-6c335d8e53e1",
    "slideshow": {
     "slide_type": "fragment"
    }
   },
   "outputs": [
    {
     "data": {
      "text/html": [
       "<div>\n",
       "<style scoped>\n",
       "    .dataframe tbody tr th:only-of-type {\n",
       "        vertical-align: middle;\n",
       "    }\n",
       "\n",
       "    .dataframe tbody tr th {\n",
       "        vertical-align: top;\n",
       "    }\n",
       "\n",
       "    .dataframe thead th {\n",
       "        text-align: right;\n",
       "    }\n",
       "</style>\n",
       "<table border=\"1\" class=\"dataframe\">\n",
       "  <thead>\n",
       "    <tr style=\"text-align: right;\">\n",
       "      <th></th>\n",
       "      <th>Id</th>\n",
       "      <th>ProductId</th>\n",
       "      <th>UserId</th>\n",
       "      <th>ProfileName</th>\n",
       "      <th>HelpfulnessNumerator</th>\n",
       "      <th>HelpfulnessDenominator</th>\n",
       "      <th>Score</th>\n",
       "      <th>Time</th>\n",
       "      <th>Summary</th>\n",
       "      <th>Text</th>\n",
       "    </tr>\n",
       "  </thead>\n",
       "  <tbody>\n",
       "    <tr>\n",
       "      <th>11</th>\n",
       "      <td>14</td>\n",
       "      <td>B001GVISJM</td>\n",
       "      <td>A18ECVX2RJ7HUE</td>\n",
       "      <td>willie \"roadie\"</td>\n",
       "      <td>2</td>\n",
       "      <td>2</td>\n",
       "      <td>4</td>\n",
       "      <td>1288915200</td>\n",
       "      <td>fresh and greasy!</td>\n",
       "      <td>good flavor! these came securely packed... the...</td>\n",
       "    </tr>\n",
       "    <tr>\n",
       "      <th>12</th>\n",
       "      <td>15</td>\n",
       "      <td>B001GVISJM</td>\n",
       "      <td>A2MUGFV2TDQ47K</td>\n",
       "      <td>Lynrie \"Oh HELL no\"</td>\n",
       "      <td>4</td>\n",
       "      <td>5</td>\n",
       "      <td>5</td>\n",
       "      <td>1268352000</td>\n",
       "      <td>Strawberry Twizzlers - Yummy</td>\n",
       "      <td>The Strawberry Twizzlers are my guilty pleasur...</td>\n",
       "    </tr>\n",
       "  </tbody>\n",
       "</table>\n",
       "</div>"
      ],
      "text/plain": [
       "    Id   ProductId          UserId          ProfileName  HelpfulnessNumerator  \\\n",
       "11  14  B001GVISJM  A18ECVX2RJ7HUE      willie \"roadie\"                     2   \n",
       "12  15  B001GVISJM  A2MUGFV2TDQ47K  Lynrie \"Oh HELL no\"                     4   \n",
       "\n",
       "    HelpfulnessDenominator  Score        Time                       Summary  \\\n",
       "11                       2      4  1288915200             fresh and greasy!   \n",
       "12                       5      5  1268352000  Strawberry Twizzlers - Yummy   \n",
       "\n",
       "                                                 Text  \n",
       "11  good flavor! these came securely packed... the...  \n",
       "12  The Strawberry Twizzlers are my guilty pleasur...  "
      ]
     },
     "execution_count": 42,
     "metadata": {
      "tags": []
     },
     "output_type": "execute_result"
    }
   ],
   "source": [
    "# get the 2500 users with more reviews\n",
    "most_common_counter = Counter(_dataset['UserId']).most_common(2500)\n",
    "\n",
    "# ids from 2500 most common users by their reviews\n",
    "most_common_user_ids = [user_i for user_i,_ in most_common_counter]\n",
    "\n",
    "# create dataset with filtered users\n",
    "most_common_user_by_reviews_dataset = _dataset.loc[_dataset['UserId'].isin(most_common_user_ids)]\n",
    "most_common_user_by_reviews_dataset.head(2)"
   ]
  },
  {
   "cell_type": "markdown",
   "metadata": {
    "colab_type": "text",
    "id": "EUFXpL7NRDTP",
    "slideshow": {
     "slide_type": "slide"
    }
   },
   "source": [
    "# Análise de sentimento do Summary e Text"
   ]
  },
  {
   "cell_type": "code",
   "execution_count": 0,
   "metadata": {
    "colab": {},
    "colab_type": "code",
    "id": "NvTQ73SLRDTW",
    "slideshow": {
     "slide_type": "fragment"
    }
   },
   "outputs": [],
   "source": [
    "import textblob\n",
    "\n",
    "dataset['TextSentiment'] = dataset.apply(lambda row: TextBlob(row.Text).sentiment.polarity , axis=1)\n",
    "dataset['SummarySentiment'] = dataset.apply(lambda row: TextBlob(row.Summary).sentiment.polarity , axis=1)"
   ]
  },
  {
   "cell_type": "markdown",
   "metadata": {
    "colab_type": "text",
    "id": "Hp2J2bhHD5Zp",
    "slideshow": {
     "slide_type": "slide"
    }
   },
   "source": [
    "# Mudar tamanho do texto e normalizar o score"
   ]
  },
  {
   "cell_type": "code",
   "execution_count": 0,
   "metadata": {
    "colab": {
     "base_uri": "https://localhost:8080/",
     "height": 335
    },
    "colab_type": "code",
    "executionInfo": {
     "elapsed": 729,
     "status": "ok",
     "timestamp": 1545201380735,
     "user": {
      "displayName": "jadson lucio",
      "photoUrl": "",
      "userId": "11621358175551211864"
     },
     "user_tz": 180
    },
    "id": "a4yvzWJiFl6v",
    "outputId": "0c674e4b-0452-4505-a971-8a3c7557e849",
    "slideshow": {
     "slide_type": "fragment"
    }
   },
   "outputs": [
    {
     "data": {
      "text/html": [
       "<div>\n",
       "<style scoped>\n",
       "    .dataframe tbody tr th:only-of-type {\n",
       "        vertical-align: middle;\n",
       "    }\n",
       "\n",
       "    .dataframe tbody tr th {\n",
       "        vertical-align: top;\n",
       "    }\n",
       "\n",
       "    .dataframe thead th {\n",
       "        text-align: right;\n",
       "    }\n",
       "</style>\n",
       "<table border=\"1\" class=\"dataframe\">\n",
       "  <thead>\n",
       "    <tr style=\"text-align: right;\">\n",
       "      <th></th>\n",
       "      <th>Id</th>\n",
       "      <th>ProductId</th>\n",
       "      <th>UserId</th>\n",
       "      <th>ProfileName</th>\n",
       "      <th>HelpfulnessNumerator</th>\n",
       "      <th>HelpfulnessDenominator</th>\n",
       "      <th>Score</th>\n",
       "      <th>Time</th>\n",
       "      <th>Summary</th>\n",
       "      <th>Text</th>\n",
       "      <th>TextSentiment</th>\n",
       "      <th>SummarySentiment</th>\n",
       "      <th>TaxaCurtidas</th>\n",
       "      <th>TextSize</th>\n",
       "      <th>ScoreNorm</th>\n",
       "    </tr>\n",
       "  </thead>\n",
       "  <tbody>\n",
       "    <tr>\n",
       "      <th>0</th>\n",
       "      <td>1</td>\n",
       "      <td>B001E4KFG0</td>\n",
       "      <td>A3SGXH7AUHU8GW</td>\n",
       "      <td>delmartian</td>\n",
       "      <td>1</td>\n",
       "      <td>1</td>\n",
       "      <td>5</td>\n",
       "      <td>1303862400</td>\n",
       "      <td>Good Quality Dog Food</td>\n",
       "      <td>I have bought several of the Vitality canned d...</td>\n",
       "      <td>0.450000</td>\n",
       "      <td>0.7</td>\n",
       "      <td>1.0</td>\n",
       "      <td>49</td>\n",
       "      <td>1.0</td>\n",
       "    </tr>\n",
       "    <tr>\n",
       "      <th>1</th>\n",
       "      <td>2</td>\n",
       "      <td>B00813GRG4</td>\n",
       "      <td>A1D87F6ZCVE5NK</td>\n",
       "      <td>dll pa</td>\n",
       "      <td>0</td>\n",
       "      <td>0</td>\n",
       "      <td>1</td>\n",
       "      <td>1346976000</td>\n",
       "      <td>Not as Advertised</td>\n",
       "      <td>Product arrived labeled as Jumbo Salted Peanut...</td>\n",
       "      <td>-0.033333</td>\n",
       "      <td>0.0</td>\n",
       "      <td>0.0</td>\n",
       "      <td>31</td>\n",
       "      <td>-1.0</td>\n",
       "    </tr>\n",
       "  </tbody>\n",
       "</table>\n",
       "</div>"
      ],
      "text/plain": [
       "   Id   ProductId          UserId ProfileName  HelpfulnessNumerator  \\\n",
       "0   1  B001E4KFG0  A3SGXH7AUHU8GW  delmartian                     1   \n",
       "1   2  B00813GRG4  A1D87F6ZCVE5NK      dll pa                     0   \n",
       "\n",
       "   HelpfulnessDenominator  Score        Time                Summary  \\\n",
       "0                       1      5  1303862400  Good Quality Dog Food   \n",
       "1                       0      1  1346976000      Not as Advertised   \n",
       "\n",
       "                                                Text  TextSentiment  \\\n",
       "0  I have bought several of the Vitality canned d...       0.450000   \n",
       "1  Product arrived labeled as Jumbo Salted Peanut...      -0.033333   \n",
       "\n",
       "   SummarySentiment  TaxaCurtidas  TextSize  ScoreNorm  \n",
       "0               0.7           1.0        49        1.0  \n",
       "1               0.0           0.0        31       -1.0  "
      ]
     },
     "execution_count": 44,
     "metadata": {
      "tags": []
     },
     "output_type": "execute_result"
    }
   ],
   "source": [
    "dataset[\"TextSize\"] = [len(text.split(\" \")) for text in dataset[\"Text\"]]\n",
    "dataset['ScoreNorm'] = [(score_i-3)/2 for score_i in dataset['Score']]\n",
    "\n",
    "dataset.head(2)"
   ]
  },
  {
   "cell_type": "markdown",
   "metadata": {
    "colab_type": "text",
    "id": "SlMK6IjgRDTg",
    "slideshow": {
     "slide_type": "slide"
    }
   },
   "source": [
    "# Extração de caracteristicas"
   ]
  },
  {
   "cell_type": "markdown",
   "metadata": {
    "colab_type": "text",
    "id": "luuc_BV-RDTj",
    "slideshow": {
     "slide_type": "subslide"
    }
   },
   "source": [
    "\n",
    "<ul>\n",
    "    <li><b>GroupLike</b> - Média da quantidade de likes dos produtos avaliados.</li>\n",
    "    <li><b>GroupDeslike</b> - Média da quantidade de deslikes dos produtos avaliados.</li>\n",
    "    <li><b>MeanTextSize</b>  - Média do tamanho do texto escrito nas reviews.</li>\n",
    "    <li><b>NumberProducts</b> - Número de produtos avaliados pelo usuário.</li>\n",
    "    <li><b>MeanDifferenceScoreBySentimentRate</b> - Média da diferença entre o score dado pelo usuário e a análise de sentimento do        seu texto.</li>\n",
    "    <li><b>VarianceDifferenceScoreBySentimentRate</b> - Variância da diferença entre o score dado pelo usuário e a análise de            sentimento do seu texto</li>\n",
    "    <li><b>MeanDiffUserScoreToProductScore</b> - Média da diferença entre o score do produto dado pelo usuário e a média do score dos     outros usuários avaliando o mesmo produto</li>\n",
    "    <li><b>VarianceDiffUserScoreToProductScore</b> - variância da diferença entre o score do produto dado pelo usuário e a média do       score dos outros usuários avaliando o mesmo produto.</li>\n",
    "    <li><b>MeanLikeParticipation</b> - Média da participação do usuário nas boas avaliações de um produto</li>\n",
    "  <li><b>MeanReviewsWithLikes</b> Média das reviews do usuário que receberam avaliação positiva</li>\n",
    "</ul>\n"
   ]
  },
  {
   "cell_type": "code",
   "execution_count": 0,
   "metadata": {
    "colab": {},
    "colab_type": "code",
    "id": "i2L71oRMRDTo",
    "outputId": "bf3e71f7-2d42-4e51-b252-315c1f541cff",
    "slideshow": {
     "slide_type": "subslide"
    }
   },
   "outputs": [
    {
     "name": "stdout",
     "output_type": "stream",
     "text": [
      "[0, 0.4, 0.8, 1.4, 2.484, 40.21428571]\n",
      "[-0.09090909, 0.10526316, 0.23076923, 0.36363636, 0.58333333, 8.625]\n"
     ]
    }
   ],
   "source": [
    "# mean textsize column\n",
    "user_dataset[\"MeanTextSize\"] = users['TextSize'].agg(np.mean).tolist()\n",
    "user_dataset['NumberProducts'] = users['ProductId'].agg(np.size).tolist()\n",
    "user_dataset['MeanLike'], meanLikebins = pd.qcut(users['HelpfulnessNumerator'].agg(np.mean).tolist(), 5, labels = False, retbins = True)\n",
    "user_dataset['Meandeslike'], Meandeslikebins = pd.qcut(users['Helpfuless'].agg(np.mean).tolist(), 5, labels = False, retbins = True)\n",
    "\n",
    "print(meanLikebins)\n",
    "print(Meandeslike)"
   ]
  },
  {
   "cell_type": "code",
   "execution_count": 0,
   "metadata": {
    "colab": {
     "base_uri": "https://localhost:8080/",
     "height": 224
    },
    "colab_type": "code",
    "executionInfo": {
     "elapsed": 978,
     "status": "ok",
     "timestamp": 1545200127787,
     "user": {
      "displayName": "jadson lucio",
      "photoUrl": "",
      "userId": "11621358175551211864"
     },
     "user_tz": 180
    },
    "id": "zGq0R8LwRDTx",
    "outputId": "a4a5d438-93ee-4431-a5fe-986994babb8d",
    "slideshow": {
     "slide_type": "-"
    }
   },
   "outputs": [
    {
     "data": {
      "text/html": [
       "<div>\n",
       "<style scoped>\n",
       "    .dataframe tbody tr th:only-of-type {\n",
       "        vertical-align: middle;\n",
       "    }\n",
       "\n",
       "    .dataframe tbody tr th {\n",
       "        vertical-align: top;\n",
       "    }\n",
       "\n",
       "    .dataframe thead th {\n",
       "        text-align: right;\n",
       "    }\n",
       "</style>\n",
       "<table border=\"1\" class=\"dataframe\">\n",
       "  <thead>\n",
       "    <tr style=\"text-align: right;\">\n",
       "      <th></th>\n",
       "      <th>UserId</th>\n",
       "      <th>MeanTextSize</th>\n",
       "      <th>NumberProducts</th>\n",
       "      <th>MeanDifferenceScoreBySentimentRate</th>\n",
       "      <th>VarianceDifferenceScoreBySentimentRate</th>\n",
       "      <th>MeanLike</th>\n",
       "      <th>Meandeslike</th>\n",
       "      <th>MeanDiffUserScoreToProductScore</th>\n",
       "      <th>VarianceDiffUserScoreToProductScore</th>\n",
       "      <th>MeanLikeParticipation</th>\n",
       "    </tr>\n",
       "  </thead>\n",
       "  <tbody>\n",
       "    <tr>\n",
       "      <th>0</th>\n",
       "      <td>A100WO06OQR8BQ</td>\n",
       "      <td>160.142857</td>\n",
       "      <td>35</td>\n",
       "      <td>0.324217</td>\n",
       "      <td>0.033890</td>\n",
       "      <td>1</td>\n",
       "      <td>4</td>\n",
       "      <td>0.256874</td>\n",
       "      <td>0.036600</td>\n",
       "      <td>0.040454</td>\n",
       "    </tr>\n",
       "    <tr>\n",
       "      <th>1</th>\n",
       "      <td>A1051DBTLWP5A2</td>\n",
       "      <td>192.647059</td>\n",
       "      <td>17</td>\n",
       "      <td>0.322921</td>\n",
       "      <td>0.013573</td>\n",
       "      <td>3</td>\n",
       "      <td>0</td>\n",
       "      <td>0.172642</td>\n",
       "      <td>0.031336</td>\n",
       "      <td>0.057382</td>\n",
       "    </tr>\n",
       "    <tr>\n",
       "      <th>2</th>\n",
       "      <td>A105S56ODHGJEK</td>\n",
       "      <td>149.857143</td>\n",
       "      <td>14</td>\n",
       "      <td>0.210000</td>\n",
       "      <td>0.017145</td>\n",
       "      <td>0</td>\n",
       "      <td>2</td>\n",
       "      <td>0.180998</td>\n",
       "      <td>0.019904</td>\n",
       "      <td>0.003400</td>\n",
       "    </tr>\n",
       "    <tr>\n",
       "      <th>3</th>\n",
       "      <td>A106Q1A6LGU4DP</td>\n",
       "      <td>141.600000</td>\n",
       "      <td>10</td>\n",
       "      <td>0.287599</td>\n",
       "      <td>0.013339</td>\n",
       "      <td>4</td>\n",
       "      <td>2</td>\n",
       "      <td>0.210665</td>\n",
       "      <td>0.016938</td>\n",
       "      <td>0.061429</td>\n",
       "    </tr>\n",
       "    <tr>\n",
       "      <th>4</th>\n",
       "      <td>A106ZCP7RSXMRU</td>\n",
       "      <td>120.882353</td>\n",
       "      <td>34</td>\n",
       "      <td>0.237055</td>\n",
       "      <td>0.012516</td>\n",
       "      <td>4</td>\n",
       "      <td>3</td>\n",
       "      <td>0.089998</td>\n",
       "      <td>0.012429</td>\n",
       "      <td>0.604175</td>\n",
       "    </tr>\n",
       "  </tbody>\n",
       "</table>\n",
       "</div>"
      ],
      "text/plain": [
       "           UserId  MeanTextSize  NumberProducts  \\\n",
       "0  A100WO06OQR8BQ    160.142857              35   \n",
       "1  A1051DBTLWP5A2    192.647059              17   \n",
       "2  A105S56ODHGJEK    149.857143              14   \n",
       "3  A106Q1A6LGU4DP    141.600000              10   \n",
       "4  A106ZCP7RSXMRU    120.882353              34   \n",
       "\n",
       "   MeanDifferenceScoreBySentimentRate  VarianceDifferenceScoreBySentimentRate  \\\n",
       "0                            0.324217                                0.033890   \n",
       "1                            0.322921                                0.013573   \n",
       "2                            0.210000                                0.017145   \n",
       "3                            0.287599                                0.013339   \n",
       "4                            0.237055                                0.012516   \n",
       "\n",
       "   MeanLike  Meandeslike  MeanDiffUserScoreToProductScore  \\\n",
       "0         1            4                         0.256874   \n",
       "1         3            0                         0.172642   \n",
       "2         0            2                         0.180998   \n",
       "3         4            2                         0.210665   \n",
       "4         4            3                         0.089998   \n",
       "\n",
       "   VarianceDiffUserScoreToProductScore  MeanLikeParticipation  \n",
       "0                             0.036600               0.040454  \n",
       "1                             0.031336               0.057382  \n",
       "2                             0.019904               0.003400  \n",
       "3                             0.016938               0.061429  \n",
       "4                             0.012429               0.604175  "
      ]
     },
     "execution_count": 25,
     "metadata": {
      "tags": []
     },
     "output_type": "execute_result"
    }
   ],
   "source": [
    "user_dataset.head(5)"
   ]
  },
  {
   "cell_type": "markdown",
   "metadata": {
    "colab_type": "text",
    "id": "7X1DIODIV_p7",
    "slideshow": {
     "slide_type": "slide"
    }
   },
   "source": [
    "# Média do tamanho do texto Boxplot"
   ]
  },
  {
   "cell_type": "code",
   "execution_count": 0,
   "metadata": {
    "colab": {
     "base_uri": "https://localhost:8080/",
     "height": 347
    },
    "colab_type": "code",
    "executionInfo": {
     "elapsed": 737,
     "status": "ok",
     "timestamp": 1545220857719,
     "user": {
      "displayName": "Francisco Neto",
      "photoUrl": "https://lh5.googleusercontent.com/-1SUFg21pUOs/AAAAAAAAAAI/AAAAAAAADio/Tl3fkhIuJI4/s64/photo.jpg",
      "userId": "00985066420011675306"
     },
     "user_tz": 180
    },
    "id": "JBX9lQKxVZHr",
    "outputId": "bcbac78b-cd5f-4675-a71a-4f08c722789f",
    "slideshow": {
     "slide_type": "fragment"
    }
   },
   "outputs": [
    {
     "data": {
      "image/png": "[encoded data removed]",
      "text/plain": [
       "<matplotlib.figure.Figure at 0x7ff463650e48>"
      ]
     },
     "metadata": {
      "tags": []
     },
     "output_type": "display_data"
    }
   ],
   "source": [
    "plt.boxplot(user_dataset_not_norm['MeanTextSize'],flierprops=dict(markerfacecolor='g', marker='D'))\n",
    "plt.show()"
   ]
  },
  {
   "cell_type": "markdown",
   "metadata": {
    "colab_type": "text",
    "id": "34-f1HCnWP9U",
    "slideshow": {
     "slide_type": "slide"
    }
   },
   "source": [
    "# Número de produtos Boxplot"
   ]
  },
  {
   "cell_type": "code",
   "execution_count": 0,
   "metadata": {
    "colab": {
     "base_uri": "https://localhost:8080/",
     "height": 347
    },
    "colab_type": "code",
    "executionInfo": {
     "elapsed": 933,
     "status": "ok",
     "timestamp": 1545220889951,
     "user": {
      "displayName": "Francisco Neto",
      "photoUrl": "https://lh5.googleusercontent.com/-1SUFg21pUOs/AAAAAAAAAAI/AAAAAAAADio/Tl3fkhIuJI4/s64/photo.jpg",
      "userId": "00985066420011675306"
     },
     "user_tz": 180
    },
    "id": "5PJDWZrjVzTK",
    "outputId": "bcb8f203-870d-4484-db2a-3aa9f790c693",
    "slideshow": {
     "slide_type": "fragment"
    }
   },
   "outputs": [
    {
     "data": {
      "image/png": "[encoded data removed]",
      "text/plain": [
       "<matplotlib.figure.Figure at 0x7ff46365ad30>"
      ]
     },
     "metadata": {
      "tags": []
     },
     "output_type": "display_data"
    }
   ],
   "source": [
    "plt.boxplot(user_dataset_not_norm['NumberProducts'],flierprops=dict(markerfacecolor='g', marker='D'))\n",
    "plt.show()"
   ]
  },
  {
   "cell_type": "markdown",
   "metadata": {
    "colab_type": "text",
    "id": "PhZUfhj3RDT6",
    "slideshow": {
     "slide_type": "subslide"
    }
   },
   "source": [
    "# Normalização \n",
    "$$\n",
    "zi = \\frac{xi - min(x)}{max(x) - min(x)}\n",
    "$$"
   ]
  },
  {
   "cell_type": "code",
   "execution_count": 16,
   "metadata": {
    "colab": {
     "base_uri": "https://localhost:8080/",
     "height": 255
    },
    "colab_type": "code",
    "executionInfo": {
     "elapsed": 826,
     "status": "ok",
     "timestamp": 1545225787427,
     "user": {
      "displayName": "Francisco Neto",
      "photoUrl": "https://lh5.googleusercontent.com/-1SUFg21pUOs/AAAAAAAAAAI/AAAAAAAADio/Tl3fkhIuJI4/s64/photo.jpg",
      "userId": "00985066420011675306"
     },
     "user_tz": 180
    },
    "id": "8CWQT3f8RDUA",
    "outputId": "f667db66-5c1a-4592-aa61-16622e961ee7"
   },
   "outputs": [
    {
     "data": {
      "text/html": [
       "<div>\n",
       "<style scoped>\n",
       "    .dataframe tbody tr th:only-of-type {\n",
       "        vertical-align: middle;\n",
       "    }\n",
       "\n",
       "    .dataframe tbody tr th {\n",
       "        vertical-align: top;\n",
       "    }\n",
       "\n",
       "    .dataframe thead th {\n",
       "        text-align: right;\n",
       "    }\n",
       "</style>\n",
       "<table border=\"1\" class=\"dataframe\">\n",
       "  <thead>\n",
       "    <tr style=\"text-align: right;\">\n",
       "      <th></th>\n",
       "      <th>MeanTextSize</th>\n",
       "      <th>NumberProducts</th>\n",
       "      <th>MeanDifferenceScoreBySentimentRate</th>\n",
       "      <th>VarianceDifferenceScoreBySentimentRate</th>\n",
       "      <th>GroupLike</th>\n",
       "      <th>GroupDesLike</th>\n",
       "      <th>MeanReviewsWithLikes</th>\n",
       "      <th>MeanDiffUserScoreToProductScore</th>\n",
       "      <th>VarianceDiffUserScoreToProductScore</th>\n",
       "      <th>MeanLikeParticipation</th>\n",
       "    </tr>\n",
       "    <tr>\n",
       "      <th>UserId</th>\n",
       "      <th></th>\n",
       "      <th></th>\n",
       "      <th></th>\n",
       "      <th></th>\n",
       "      <th></th>\n",
       "      <th></th>\n",
       "      <th></th>\n",
       "      <th></th>\n",
       "      <th></th>\n",
       "      <th></th>\n",
       "    </tr>\n",
       "  </thead>\n",
       "  <tbody>\n",
       "    <tr>\n",
       "      <th>A100WO06OQR8BQ</th>\n",
       "      <td>0.161068</td>\n",
       "      <td>0.084459</td>\n",
       "      <td>0.324217</td>\n",
       "      <td>0.033890</td>\n",
       "      <td>0.25</td>\n",
       "      <td>1.00</td>\n",
       "      <td>0.342857</td>\n",
       "      <td>0.256874</td>\n",
       "      <td>0.036600</td>\n",
       "      <td>0.040454</td>\n",
       "    </tr>\n",
       "    <tr>\n",
       "      <th>A1051DBTLWP5A2</th>\n",
       "      <td>0.198748</td>\n",
       "      <td>0.023649</td>\n",
       "      <td>0.322921</td>\n",
       "      <td>0.013573</td>\n",
       "      <td>0.75</td>\n",
       "      <td>0.00</td>\n",
       "      <td>0.235294</td>\n",
       "      <td>0.172642</td>\n",
       "      <td>0.031336</td>\n",
       "      <td>0.057382</td>\n",
       "    </tr>\n",
       "    <tr>\n",
       "      <th>A105S56ODHGJEK</th>\n",
       "      <td>0.149145</td>\n",
       "      <td>0.013514</td>\n",
       "      <td>0.210000</td>\n",
       "      <td>0.017145</td>\n",
       "      <td>0.00</td>\n",
       "      <td>0.50</td>\n",
       "      <td>0.142857</td>\n",
       "      <td>0.180998</td>\n",
       "      <td>0.019904</td>\n",
       "      <td>0.003400</td>\n",
       "    </tr>\n",
       "    <tr>\n",
       "      <th>A106Q1A6LGU4DP</th>\n",
       "      <td>0.139573</td>\n",
       "      <td>0.000000</td>\n",
       "      <td>0.287599</td>\n",
       "      <td>0.013339</td>\n",
       "      <td>1.00</td>\n",
       "      <td>0.50</td>\n",
       "      <td>0.200000</td>\n",
       "      <td>0.210665</td>\n",
       "      <td>0.016938</td>\n",
       "      <td>0.061429</td>\n",
       "    </tr>\n",
       "    <tr>\n",
       "      <th>A106ZCP7RSXMRU</th>\n",
       "      <td>0.115556</td>\n",
       "      <td>0.081081</td>\n",
       "      <td>0.237055</td>\n",
       "      <td>0.012516</td>\n",
       "      <td>1.00</td>\n",
       "      <td>0.75</td>\n",
       "      <td>0.941176</td>\n",
       "      <td>0.089998</td>\n",
       "      <td>0.012429</td>\n",
       "      <td>0.604175</td>\n",
       "    </tr>\n",
       "  </tbody>\n",
       "</table>\n",
       "</div>"
      ],
      "text/plain": [
       "                MeanTextSize  NumberProducts  \\\n",
       "UserId                                         \n",
       "A100WO06OQR8BQ      0.161068        0.084459   \n",
       "A1051DBTLWP5A2      0.198748        0.023649   \n",
       "A105S56ODHGJEK      0.149145        0.013514   \n",
       "A106Q1A6LGU4DP      0.139573        0.000000   \n",
       "A106ZCP7RSXMRU      0.115556        0.081081   \n",
       "\n",
       "                MeanDifferenceScoreBySentimentRate  \\\n",
       "UserId                                               \n",
       "A100WO06OQR8BQ                            0.324217   \n",
       "A1051DBTLWP5A2                            0.322921   \n",
       "A105S56ODHGJEK                            0.210000   \n",
       "A106Q1A6LGU4DP                            0.287599   \n",
       "A106ZCP7RSXMRU                            0.237055   \n",
       "\n",
       "                VarianceDifferenceScoreBySentimentRate  GroupLike  \\\n",
       "UserId                                                              \n",
       "A100WO06OQR8BQ                                0.033890       0.25   \n",
       "A1051DBTLWP5A2                                0.013573       0.75   \n",
       "A105S56ODHGJEK                                0.017145       0.00   \n",
       "A106Q1A6LGU4DP                                0.013339       1.00   \n",
       "A106ZCP7RSXMRU                                0.012516       1.00   \n",
       "\n",
       "                GroupDesLike  MeanReviewsWithLikes  \\\n",
       "UserId                                               \n",
       "A100WO06OQR8BQ          1.00              0.342857   \n",
       "A1051DBTLWP5A2          0.00              0.235294   \n",
       "A105S56ODHGJEK          0.50              0.142857   \n",
       "A106Q1A6LGU4DP          0.50              0.200000   \n",
       "A106ZCP7RSXMRU          0.75              0.941176   \n",
       "\n",
       "                MeanDiffUserScoreToProductScore  \\\n",
       "UserId                                            \n",
       "A100WO06OQR8BQ                         0.256874   \n",
       "A1051DBTLWP5A2                         0.172642   \n",
       "A105S56ODHGJEK                         0.180998   \n",
       "A106Q1A6LGU4DP                         0.210665   \n",
       "A106ZCP7RSXMRU                         0.089998   \n",
       "\n",
       "                VarianceDiffUserScoreToProductScore  MeanLikeParticipation  \n",
       "UserId                                                                      \n",
       "A100WO06OQR8BQ                             0.036600               0.040454  \n",
       "A1051DBTLWP5A2                             0.031336               0.057382  \n",
       "A105S56ODHGJEK                             0.019904               0.003400  \n",
       "A106Q1A6LGU4DP                             0.016938               0.061429  \n",
       "A106ZCP7RSXMRU                             0.012429               0.604175  "
      ]
     },
     "execution_count": 16,
     "metadata": {
      "tags": []
     },
     "output_type": "execute_result"
    }
   ],
   "source": [
    "scale = lambda x, col_name: [(row-min(x[col_name]))/(max(x[col_name])-min(x[col_name])) for row in x[col_name]]\n",
    "\n",
    "# number product and mean text size normalization\n",
    "user_dataset['NumberProducts'] = scale(user_dataset, 'NumberProducts')\n",
    "user_dataset['MeanTextSize'] = scale(user_dataset, 'MeanTextSize')\n",
    "user_dataset['MeanLike'] = scale(user_dataset, 'MeanLike')\n",
    "user_dataset['Meandeslike'] = scale(user_dataset, 'Meandeslike')\n",
    "\n",
    "user_dataset.head(5)"
   ]
  },
  {
   "cell_type": "markdown",
   "metadata": {
    "colab_type": "text",
    "id": "_xwNX0TQRDUN",
    "slideshow": {
     "slide_type": "slide"
    }
   },
   "source": [
    "# Clusterização\n",
    "\n",
    "<p> Clusterização é uma tecnica de aprendizado não-supervisionado que tem como objetivo criar grupos(clusters) de objetos que sejam o mais similar possivel entre si, com base em uma função de similaridade.<p>"
   ]
  },
  {
   "cell_type": "markdown",
   "metadata": {
    "colab_type": "text",
    "id": "TIovOU43RDUZ",
    "slideshow": {
     "slide_type": "slide"
    }
   },
   "source": [
    "# K-means"
   ]
  },
  {
   "cell_type": "code",
   "execution_count": 49,
   "metadata": {
    "colab": {
     "base_uri": "https://localhost:8080/",
     "height": 428
    },
    "colab_type": "code",
    "executionInfo": {
     "elapsed": 888,
     "status": "ok",
     "timestamp": 1545227068158,
     "user": {
      "displayName": "Francisco Neto",
      "photoUrl": "https://lh5.googleusercontent.com/-1SUFg21pUOs/AAAAAAAAAAI/AAAAAAAADio/Tl3fkhIuJI4/s64/photo.jpg",
      "userId": "00985066420011675306"
     },
     "user_tz": 180
    },
    "id": "l2l1VI7XRDUc",
    "outputId": "5883702e-7392-43c3-f980-ad0acb0dca0c"
   },
   "outputs": [
    {
     "name": "stdout",
     "output_type": "stream",
     "text": [
      "Counter({3: 557, 2: 504, 0: 473, 1: 466})\n"
     ]
    },
    {
     "data": {
      "text/html": [
       "<div>\n",
       "<style scoped>\n",
       "    .dataframe tbody tr th:only-of-type {\n",
       "        vertical-align: middle;\n",
       "    }\n",
       "\n",
       "    .dataframe tbody tr th {\n",
       "        vertical-align: top;\n",
       "    }\n",
       "\n",
       "    .dataframe thead th {\n",
       "        text-align: right;\n",
       "    }\n",
       "</style>\n",
       "<table border=\"1\" class=\"dataframe\">\n",
       "  <thead>\n",
       "    <tr style=\"text-align: right;\">\n",
       "      <th></th>\n",
       "      <th>MeanTextSize</th>\n",
       "      <th>NumberProducts</th>\n",
       "      <th>MeanDifferenceScoreBySentimentRate</th>\n",
       "      <th>VarianceDifferenceScoreBySentimentRate</th>\n",
       "      <th>GroupLike</th>\n",
       "      <th>GroupDesLike</th>\n",
       "      <th>MeanReviewsWithLikes</th>\n",
       "      <th>MeanDiffUserScoreToProductScore</th>\n",
       "      <th>VarianceDiffUserScoreToProductScore</th>\n",
       "      <th>MeanLikeParticipation</th>\n",
       "      <th>label</th>\n",
       "    </tr>\n",
       "    <tr>\n",
       "      <th>UserId</th>\n",
       "      <th></th>\n",
       "      <th></th>\n",
       "      <th></th>\n",
       "      <th></th>\n",
       "      <th></th>\n",
       "      <th></th>\n",
       "      <th></th>\n",
       "      <th></th>\n",
       "      <th></th>\n",
       "      <th></th>\n",
       "      <th></th>\n",
       "    </tr>\n",
       "  </thead>\n",
       "  <tbody>\n",
       "    <tr>\n",
       "      <th>A2E5C8TTAED4CQ</th>\n",
       "      <td>0.157077</td>\n",
       "      <td>0.000000</td>\n",
       "      <td>0.347460</td>\n",
       "      <td>0.018719</td>\n",
       "      <td>1.00</td>\n",
       "      <td>0.75</td>\n",
       "      <td>0.900000</td>\n",
       "      <td>0.079929</td>\n",
       "      <td>0.008400</td>\n",
       "      <td>0.698831</td>\n",
       "      <td>2</td>\n",
       "    </tr>\n",
       "    <tr>\n",
       "      <th>A1GQSBLU2QXDC9</th>\n",
       "      <td>0.065002</td>\n",
       "      <td>0.003378</td>\n",
       "      <td>0.278294</td>\n",
       "      <td>0.006019</td>\n",
       "      <td>0.75</td>\n",
       "      <td>0.00</td>\n",
       "      <td>0.727273</td>\n",
       "      <td>0.081778</td>\n",
       "      <td>0.008674</td>\n",
       "      <td>0.307069</td>\n",
       "      <td>0</td>\n",
       "    </tr>\n",
       "    <tr>\n",
       "      <th>A3A0R815M3WINQ</th>\n",
       "      <td>0.013679</td>\n",
       "      <td>0.000000</td>\n",
       "      <td>0.237672</td>\n",
       "      <td>0.008433</td>\n",
       "      <td>0.50</td>\n",
       "      <td>1.00</td>\n",
       "      <td>0.600000</td>\n",
       "      <td>0.135417</td>\n",
       "      <td>0.036393</td>\n",
       "      <td>0.075910</td>\n",
       "      <td>1</td>\n",
       "    </tr>\n",
       "    <tr>\n",
       "      <th>A1AEPMPA12GUJ7</th>\n",
       "      <td>0.070784</td>\n",
       "      <td>0.121622</td>\n",
       "      <td>0.164327</td>\n",
       "      <td>0.015668</td>\n",
       "      <td>0.00</td>\n",
       "      <td>0.25</td>\n",
       "      <td>0.130435</td>\n",
       "      <td>0.115538</td>\n",
       "      <td>0.011681</td>\n",
       "      <td>0.013873</td>\n",
       "      <td>3</td>\n",
       "    </tr>\n",
       "    <tr>\n",
       "      <th>A34W7QA4J5UTOR</th>\n",
       "      <td>0.102113</td>\n",
       "      <td>0.037162</td>\n",
       "      <td>0.169742</td>\n",
       "      <td>0.007249</td>\n",
       "      <td>0.00</td>\n",
       "      <td>0.75</td>\n",
       "      <td>0.095238</td>\n",
       "      <td>0.214454</td>\n",
       "      <td>0.018102</td>\n",
       "      <td>0.002033</td>\n",
       "      <td>1</td>\n",
       "    </tr>\n",
       "    <tr>\n",
       "      <th>AVZ1SYMD26S4R</th>\n",
       "      <td>0.142140</td>\n",
       "      <td>0.057432</td>\n",
       "      <td>0.172592</td>\n",
       "      <td>0.013498</td>\n",
       "      <td>0.75</td>\n",
       "      <td>0.25</td>\n",
       "      <td>0.333333</td>\n",
       "      <td>0.095621</td>\n",
       "      <td>0.008609</td>\n",
       "      <td>0.214708</td>\n",
       "      <td>0</td>\n",
       "    </tr>\n",
       "    <tr>\n",
       "      <th>A2LIF95N23RT72</th>\n",
       "      <td>0.046390</td>\n",
       "      <td>0.043919</td>\n",
       "      <td>0.266536</td>\n",
       "      <td>0.008740</td>\n",
       "      <td>0.50</td>\n",
       "      <td>0.25</td>\n",
       "      <td>0.391304</td>\n",
       "      <td>0.044565</td>\n",
       "      <td>0.008325</td>\n",
       "      <td>0.244287</td>\n",
       "      <td>0</td>\n",
       "    </tr>\n",
       "    <tr>\n",
       "      <th>A3T0388BB6KD28</th>\n",
       "      <td>0.064507</td>\n",
       "      <td>0.010135</td>\n",
       "      <td>0.166875</td>\n",
       "      <td>0.010733</td>\n",
       "      <td>0.50</td>\n",
       "      <td>0.00</td>\n",
       "      <td>0.461538</td>\n",
       "      <td>0.086788</td>\n",
       "      <td>0.023234</td>\n",
       "      <td>0.337995</td>\n",
       "      <td>0</td>\n",
       "    </tr>\n",
       "    <tr>\n",
       "      <th>A1L43KWWR05PCS</th>\n",
       "      <td>0.128971</td>\n",
       "      <td>0.003378</td>\n",
       "      <td>0.367523</td>\n",
       "      <td>0.024928</td>\n",
       "      <td>0.75</td>\n",
       "      <td>0.50</td>\n",
       "      <td>0.636364</td>\n",
       "      <td>0.075770</td>\n",
       "      <td>0.044448</td>\n",
       "      <td>0.385889</td>\n",
       "      <td>0</td>\n",
       "    </tr>\n",
       "    <tr>\n",
       "      <th>A2II09GQGWOMTQ</th>\n",
       "      <td>0.073159</td>\n",
       "      <td>0.108108</td>\n",
       "      <td>0.345279</td>\n",
       "      <td>0.014934</td>\n",
       "      <td>1.00</td>\n",
       "      <td>0.50</td>\n",
       "      <td>1.000000</td>\n",
       "      <td>0.057474</td>\n",
       "      <td>0.015421</td>\n",
       "      <td>0.677588</td>\n",
       "      <td>2</td>\n",
       "    </tr>\n",
       "  </tbody>\n",
       "</table>\n",
       "</div>"
      ],
      "text/plain": [
       "                MeanTextSize  NumberProducts  \\\n",
       "UserId                                         \n",
       "A2E5C8TTAED4CQ      0.157077        0.000000   \n",
       "A1GQSBLU2QXDC9      0.065002        0.003378   \n",
       "A3A0R815M3WINQ      0.013679        0.000000   \n",
       "A1AEPMPA12GUJ7      0.070784        0.121622   \n",
       "A34W7QA4J5UTOR      0.102113        0.037162   \n",
       "AVZ1SYMD26S4R       0.142140        0.057432   \n",
       "A2LIF95N23RT72      0.046390        0.043919   \n",
       "A3T0388BB6KD28      0.064507        0.010135   \n",
       "A1L43KWWR05PCS      0.128971        0.003378   \n",
       "A2II09GQGWOMTQ      0.073159        0.108108   \n",
       "\n",
       "                MeanDifferenceScoreBySentimentRate  \\\n",
       "UserId                                               \n",
       "A2E5C8TTAED4CQ                            0.347460   \n",
       "A1GQSBLU2QXDC9                            0.278294   \n",
       "A3A0R815M3WINQ                            0.237672   \n",
       "A1AEPMPA12GUJ7                            0.164327   \n",
       "A34W7QA4J5UTOR                            0.169742   \n",
       "AVZ1SYMD26S4R                             0.172592   \n",
       "A2LIF95N23RT72                            0.266536   \n",
       "A3T0388BB6KD28                            0.166875   \n",
       "A1L43KWWR05PCS                            0.367523   \n",
       "A2II09GQGWOMTQ                            0.345279   \n",
       "\n",
       "                VarianceDifferenceScoreBySentimentRate  GroupLike  \\\n",
       "UserId                                                              \n",
       "A2E5C8TTAED4CQ                                0.018719       1.00   \n",
       "A1GQSBLU2QXDC9                                0.006019       0.75   \n",
       "A3A0R815M3WINQ                                0.008433       0.50   \n",
       "A1AEPMPA12GUJ7                                0.015668       0.00   \n",
       "A34W7QA4J5UTOR                                0.007249       0.00   \n",
       "AVZ1SYMD26S4R                                 0.013498       0.75   \n",
       "A2LIF95N23RT72                                0.008740       0.50   \n",
       "A3T0388BB6KD28                                0.010733       0.50   \n",
       "A1L43KWWR05PCS                                0.024928       0.75   \n",
       "A2II09GQGWOMTQ                                0.014934       1.00   \n",
       "\n",
       "                GroupDesLike  MeanReviewsWithLikes  \\\n",
       "UserId                                               \n",
       "A2E5C8TTAED4CQ          0.75              0.900000   \n",
       "A1GQSBLU2QXDC9          0.00              0.727273   \n",
       "A3A0R815M3WINQ          1.00              0.600000   \n",
       "A1AEPMPA12GUJ7          0.25              0.130435   \n",
       "A34W7QA4J5UTOR          0.75              0.095238   \n",
       "AVZ1SYMD26S4R           0.25              0.333333   \n",
       "A2LIF95N23RT72          0.25              0.391304   \n",
       "A3T0388BB6KD28          0.00              0.461538   \n",
       "A1L43KWWR05PCS          0.50              0.636364   \n",
       "A2II09GQGWOMTQ          0.50              1.000000   \n",
       "\n",
       "                MeanDiffUserScoreToProductScore  \\\n",
       "UserId                                            \n",
       "A2E5C8TTAED4CQ                         0.079929   \n",
       "A1GQSBLU2QXDC9                         0.081778   \n",
       "A3A0R815M3WINQ                         0.135417   \n",
       "A1AEPMPA12GUJ7                         0.115538   \n",
       "A34W7QA4J5UTOR                         0.214454   \n",
       "AVZ1SYMD26S4R                          0.095621   \n",
       "A2LIF95N23RT72                         0.044565   \n",
       "A3T0388BB6KD28                         0.086788   \n",
       "A1L43KWWR05PCS                         0.075770   \n",
       "A2II09GQGWOMTQ                         0.057474   \n",
       "\n",
       "                VarianceDiffUserScoreToProductScore  MeanLikeParticipation  \\\n",
       "UserId                                                                       \n",
       "A2E5C8TTAED4CQ                             0.008400               0.698831   \n",
       "A1GQSBLU2QXDC9                             0.008674               0.307069   \n",
       "A3A0R815M3WINQ                             0.036393               0.075910   \n",
       "A1AEPMPA12GUJ7                             0.011681               0.013873   \n",
       "A34W7QA4J5UTOR                             0.018102               0.002033   \n",
       "AVZ1SYMD26S4R                              0.008609               0.214708   \n",
       "A2LIF95N23RT72                             0.008325               0.244287   \n",
       "A3T0388BB6KD28                             0.023234               0.337995   \n",
       "A1L43KWWR05PCS                             0.044448               0.385889   \n",
       "A2II09GQGWOMTQ                             0.015421               0.677588   \n",
       "\n",
       "                label  \n",
       "UserId                 \n",
       "A2E5C8TTAED4CQ      2  \n",
       "A1GQSBLU2QXDC9      0  \n",
       "A3A0R815M3WINQ      1  \n",
       "A1AEPMPA12GUJ7      3  \n",
       "A34W7QA4J5UTOR      1  \n",
       "AVZ1SYMD26S4R       0  \n",
       "A2LIF95N23RT72      0  \n",
       "A3T0388BB6KD28      0  \n",
       "A1L43KWWR05PCS      0  \n",
       "A2II09GQGWOMTQ      2  "
      ]
     },
     "execution_count": 49,
     "metadata": {
      "tags": []
     },
     "output_type": "execute_result"
    }
   ],
   "source": [
    "from sklearn.cluster import KMeans\n",
    "from sklearn.model_selection import train_test_split\n",
    "train, test = train_test_split(user_dataset, train_size = 0.80)\n",
    "test_centroids = test.copy()\n",
    "\n",
    "kmeans_model = KMeans(n_clusters = 4)\n",
    "kmeans_model.fit(train)\n",
    "train[\"label\"] = kmeans_model.labels_\n",
    "print(Counter(kmeans_model.labels_))\n",
    "train.head(10)"
   ]
  },
  {
   "cell_type": "markdown",
   "metadata": {
    "slideshow": {
     "slide_type": "subslide"
    }
   },
   "source": [
    "# K-means centroids"
   ]
  },
  {
   "cell_type": "code",
   "execution_count": 53,
   "metadata": {
    "colab": {
     "base_uri": "https://localhost:8080/",
     "height": 193
    },
    "colab_type": "code",
    "executionInfo": {
     "elapsed": 956,
     "status": "ok",
     "timestamp": 1545227104229,
     "user": {
      "displayName": "Francisco Neto",
      "photoUrl": "https://lh5.googleusercontent.com/-1SUFg21pUOs/AAAAAAAAAAI/AAAAAAAADio/Tl3fkhIuJI4/s64/photo.jpg",
      "userId": "00985066420011675306"
     },
     "user_tz": 180
    },
    "id": "HOoPfXiXPjje",
    "outputId": "c7b2c049-602d-4518-f95f-c731850cc245",
    "slideshow": {
     "slide_type": "-"
    }
   },
   "outputs": [
    {
     "data": {
      "text/html": [
       "<div>\n",
       "<style scoped>\n",
       "    .dataframe tbody tr th:only-of-type {\n",
       "        vertical-align: middle;\n",
       "    }\n",
       "\n",
       "    .dataframe tbody tr th {\n",
       "        vertical-align: top;\n",
       "    }\n",
       "\n",
       "    .dataframe thead th {\n",
       "        text-align: right;\n",
       "    }\n",
       "</style>\n",
       "<table border=\"1\" class=\"dataframe\">\n",
       "  <thead>\n",
       "    <tr style=\"text-align: right;\">\n",
       "      <th></th>\n",
       "      <th>MeanTextSize</th>\n",
       "      <th>NumberProducts</th>\n",
       "      <th>MeanDifferenceScoreBySentimentRate</th>\n",
       "      <th>VarianceDifferenceScoreBySentimentRate</th>\n",
       "      <th>GroupLike</th>\n",
       "      <th>GroupDesLike</th>\n",
       "      <th>MeanReviewsWithLikes</th>\n",
       "      <th>MeanDiffUserScoreToProductScore</th>\n",
       "      <th>VarianceDiffUserScoreToProductScore</th>\n",
       "      <th>MeanLikeParticipation</th>\n",
       "    </tr>\n",
       "  </thead>\n",
       "  <tbody>\n",
       "    <tr>\n",
       "      <th>0</th>\n",
       "      <td>0.111148</td>\n",
       "      <td>0.046883</td>\n",
       "      <td>0.269440</td>\n",
       "      <td>0.016774</td>\n",
       "      <td>0.693446</td>\n",
       "      <td>0.219873</td>\n",
       "      <td>0.571512</td>\n",
       "      <td>0.104865</td>\n",
       "      <td>0.016859</td>\n",
       "      <td>0.312935</td>\n",
       "    </tr>\n",
       "    <tr>\n",
       "      <th>1</th>\n",
       "      <td>0.105788</td>\n",
       "      <td>0.026831</td>\n",
       "      <td>0.255075</td>\n",
       "      <td>0.019414</td>\n",
       "      <td>0.325644</td>\n",
       "      <td>0.740343</td>\n",
       "      <td>0.365228</td>\n",
       "      <td>0.171203</td>\n",
       "      <td>0.025441</td>\n",
       "      <td>0.126822</td>\n",
       "    </tr>\n",
       "    <tr>\n",
       "      <th>2</th>\n",
       "      <td>0.147447</td>\n",
       "      <td>0.039066</td>\n",
       "      <td>0.274923</td>\n",
       "      <td>0.019075</td>\n",
       "      <td>0.903274</td>\n",
       "      <td>0.841766</td>\n",
       "      <td>0.670289</td>\n",
       "      <td>0.138831</td>\n",
       "      <td>0.026839</td>\n",
       "      <td>0.373746</td>\n",
       "    </tr>\n",
       "    <tr>\n",
       "      <th>3</th>\n",
       "      <td>0.099690</td>\n",
       "      <td>0.021041</td>\n",
       "      <td>0.247177</td>\n",
       "      <td>0.017316</td>\n",
       "      <td>0.104129</td>\n",
       "      <td>0.191203</td>\n",
       "      <td>0.218593</td>\n",
       "      <td>0.143719</td>\n",
       "      <td>0.017906</td>\n",
       "      <td>0.085109</td>\n",
       "    </tr>\n",
       "  </tbody>\n",
       "</table>\n",
       "</div>"
      ],
      "text/plain": [
       "   MeanTextSize  NumberProducts  MeanDifferenceScoreBySentimentRate  \\\n",
       "0      0.111148        0.046883                            0.269440   \n",
       "1      0.105788        0.026831                            0.255075   \n",
       "2      0.147447        0.039066                            0.274923   \n",
       "3      0.099690        0.021041                            0.247177   \n",
       "\n",
       "   VarianceDifferenceScoreBySentimentRate  GroupLike  GroupDesLike  \\\n",
       "0                                0.016774   0.693446      0.219873   \n",
       "1                                0.019414   0.325644      0.740343   \n",
       "2                                0.019075   0.903274      0.841766   \n",
       "3                                0.017316   0.104129      0.191203   \n",
       "\n",
       "   MeanReviewsWithLikes  MeanDiffUserScoreToProductScore  \\\n",
       "0              0.571512                         0.104865   \n",
       "1              0.365228                         0.171203   \n",
       "2              0.670289                         0.138831   \n",
       "3              0.218593                         0.143719   \n",
       "\n",
       "   VarianceDiffUserScoreToProductScore  MeanLikeParticipation  \n",
       "0                             0.016859               0.312935  \n",
       "1                             0.025441               0.126822  \n",
       "2                             0.026839               0.373746  \n",
       "3                             0.017906               0.085109  "
      ]
     },
     "execution_count": 53,
     "metadata": {
      "tags": []
     },
     "output_type": "execute_result"
    }
   ],
   "source": [
    "centroids_dataframe = pd.DataFrame(data=kmeans_model.cluster_centers_, columns=train.drop([\"label\"], axis=1).columns)\n",
    "centroids_dataframe.head(4)"
   ]
  },
  {
   "cell_type": "markdown",
   "metadata": {
    "colab_type": "text",
    "id": "klqB08XJRDUo",
    "slideshow": {
     "slide_type": "subslide"
    }
   },
   "source": [
    "# PCA com 3 componentes "
   ]
  },
  {
   "cell_type": "code",
   "execution_count": 54,
   "metadata": {
    "colab": {
     "base_uri": "https://localhost:8080/",
     "height": 330
    },
    "colab_type": "code",
    "executionInfo": {
     "elapsed": 1597,
     "status": "ok",
     "timestamp": 1545227113991,
     "user": {
      "displayName": "Francisco Neto",
      "photoUrl": "https://lh5.googleusercontent.com/-1SUFg21pUOs/AAAAAAAAAAI/AAAAAAAADio/Tl3fkhIuJI4/s64/photo.jpg",
      "userId": "00985066420011675306"
     },
     "user_tz": 180
    },
    "id": "8dfkFIevRDUv",
    "outputId": "b0affc82-96f6-4df7-ecc5-90550ae82ef5",
    "slideshow": {
     "slide_type": "-"
    }
   },
   "outputs": [
    {
     "data": {
      "image/png": "[encoded data removed]",
      "text/plain": [
       "<matplotlib.figure.Figure at 0x7ff455e6ff98>"
      ]
     },
     "metadata": {
      "tags": []
     },
     "output_type": "display_data"
    }
   ],
   "source": [
    "from sklearn.decomposition import PCA\n",
    "\n",
    "pca_model = PCA(n_components = 3)\n",
    "users_dataset_components = pca_model.fit_transform(train.drop(\"label\", axis = 1).values)\n",
    "\n",
    "fig = plot_clusters(create_clusters(users_dataset_components, train.label))"
   ]
  },
  {
   "cell_type": "markdown",
   "metadata": {
    "colab_type": "text",
    "id": "ca-GFGvKRDU8",
    "slideshow": {
     "slide_type": "slide"
    }
   },
   "source": [
    "# KNN regressor classifier model"
   ]
  },
  {
   "cell_type": "markdown",
   "metadata": {
    "colab_type": "text",
    "id": "d1GqkgKMRDVC",
    "slideshow": {
     "slide_type": "subslide"
    }
   },
   "source": [
    "# KNN with train clusters"
   ]
  },
  {
   "cell_type": "code",
   "execution_count": 61,
   "metadata": {
    "colab": {
     "base_uri": "https://localhost:8080/",
     "height": 255
    },
    "colab_type": "code",
    "executionInfo": {
     "elapsed": 1744,
     "status": "ok",
     "timestamp": 1545227268869,
     "user": {
      "displayName": "Francisco Neto",
      "photoUrl": "https://lh5.googleusercontent.com/-1SUFg21pUOs/AAAAAAAAAAI/AAAAAAAADio/Tl3fkhIuJI4/s64/photo.jpg",
      "userId": "00985066420011675306"
     },
     "user_tz": 180
    },
    "id": "-_ph-3GgRDVH",
    "outputId": "07080f00-dfda-4f01-cc2c-3e5c2264c9e8"
   },
   "outputs": [
    {
     "data": {
      "text/html": [
       "<div>\n",
       "<style scoped>\n",
       "    .dataframe tbody tr th:only-of-type {\n",
       "        vertical-align: middle;\n",
       "    }\n",
       "\n",
       "    .dataframe tbody tr th {\n",
       "        vertical-align: top;\n",
       "    }\n",
       "\n",
       "    .dataframe thead th {\n",
       "        text-align: right;\n",
       "    }\n",
       "</style>\n",
       "<table border=\"1\" class=\"dataframe\">\n",
       "  <thead>\n",
       "    <tr style=\"text-align: right;\">\n",
       "      <th></th>\n",
       "      <th>MeanTextSize</th>\n",
       "      <th>NumberProducts</th>\n",
       "      <th>MeanDifferenceScoreBySentimentRate</th>\n",
       "      <th>VarianceDifferenceScoreBySentimentRate</th>\n",
       "      <th>GroupLike</th>\n",
       "      <th>GroupDesLike</th>\n",
       "      <th>MeanReviewsWithLikes</th>\n",
       "      <th>MeanDiffUserScoreToProductScore</th>\n",
       "      <th>VarianceDiffUserScoreToProductScore</th>\n",
       "      <th>MeanLikeParticipation</th>\n",
       "      <th>label</th>\n",
       "    </tr>\n",
       "    <tr>\n",
       "      <th>UserId</th>\n",
       "      <th></th>\n",
       "      <th></th>\n",
       "      <th></th>\n",
       "      <th></th>\n",
       "      <th></th>\n",
       "      <th></th>\n",
       "      <th></th>\n",
       "      <th></th>\n",
       "      <th></th>\n",
       "      <th></th>\n",
       "      <th></th>\n",
       "    </tr>\n",
       "  </thead>\n",
       "  <tbody>\n",
       "    <tr>\n",
       "      <th>A264UDLWWRJ7X4</th>\n",
       "      <td>0.180030</td>\n",
       "      <td>0.006757</td>\n",
       "      <td>0.257188</td>\n",
       "      <td>0.019377</td>\n",
       "      <td>0.75</td>\n",
       "      <td>0.75</td>\n",
       "      <td>0.500000</td>\n",
       "      <td>0.204261</td>\n",
       "      <td>0.024405</td>\n",
       "      <td>0.326903</td>\n",
       "      <td>2.0</td>\n",
       "    </tr>\n",
       "    <tr>\n",
       "      <th>A35VI0H5AFHOJ5</th>\n",
       "      <td>0.285679</td>\n",
       "      <td>0.003378</td>\n",
       "      <td>0.274473</td>\n",
       "      <td>0.027592</td>\n",
       "      <td>1.00</td>\n",
       "      <td>0.00</td>\n",
       "      <td>0.727273</td>\n",
       "      <td>0.179244</td>\n",
       "      <td>0.027029</td>\n",
       "      <td>0.375009</td>\n",
       "      <td>0.0</td>\n",
       "    </tr>\n",
       "    <tr>\n",
       "      <th>A3FD3BHIUYIFPD</th>\n",
       "      <td>0.078017</td>\n",
       "      <td>0.020270</td>\n",
       "      <td>0.160462</td>\n",
       "      <td>0.015538</td>\n",
       "      <td>0.00</td>\n",
       "      <td>0.75</td>\n",
       "      <td>0.187500</td>\n",
       "      <td>0.157521</td>\n",
       "      <td>0.009040</td>\n",
       "      <td>0.003596</td>\n",
       "      <td>1.0</td>\n",
       "    </tr>\n",
       "    <tr>\n",
       "      <th>A9ESHA5MS6S6L</th>\n",
       "      <td>0.019264</td>\n",
       "      <td>0.003378</td>\n",
       "      <td>0.358944</td>\n",
       "      <td>0.021066</td>\n",
       "      <td>0.00</td>\n",
       "      <td>0.75</td>\n",
       "      <td>0.181818</td>\n",
       "      <td>0.218196</td>\n",
       "      <td>0.008125</td>\n",
       "      <td>0.004861</td>\n",
       "      <td>1.0</td>\n",
       "    </tr>\n",
       "    <tr>\n",
       "      <th>A2D1LPEUCTNT8X</th>\n",
       "      <td>0.226498</td>\n",
       "      <td>0.185811</td>\n",
       "      <td>0.285476</td>\n",
       "      <td>0.017032</td>\n",
       "      <td>0.75</td>\n",
       "      <td>0.00</td>\n",
       "      <td>0.538462</td>\n",
       "      <td>0.079549</td>\n",
       "      <td>0.012997</td>\n",
       "      <td>0.294747</td>\n",
       "      <td>0.0</td>\n",
       "    </tr>\n",
       "  </tbody>\n",
       "</table>\n",
       "</div>"
      ],
      "text/plain": [
       "                MeanTextSize  NumberProducts  \\\n",
       "UserId                                         \n",
       "A264UDLWWRJ7X4      0.180030        0.006757   \n",
       "A35VI0H5AFHOJ5      0.285679        0.003378   \n",
       "A3FD3BHIUYIFPD      0.078017        0.020270   \n",
       "A9ESHA5MS6S6L       0.019264        0.003378   \n",
       "A2D1LPEUCTNT8X      0.226498        0.185811   \n",
       "\n",
       "                MeanDifferenceScoreBySentimentRate  \\\n",
       "UserId                                               \n",
       "A264UDLWWRJ7X4                            0.257188   \n",
       "A35VI0H5AFHOJ5                            0.274473   \n",
       "A3FD3BHIUYIFPD                            0.160462   \n",
       "A9ESHA5MS6S6L                             0.358944   \n",
       "A2D1LPEUCTNT8X                            0.285476   \n",
       "\n",
       "                VarianceDifferenceScoreBySentimentRate  GroupLike  \\\n",
       "UserId                                                              \n",
       "A264UDLWWRJ7X4                                0.019377       0.75   \n",
       "A35VI0H5AFHOJ5                                0.027592       1.00   \n",
       "A3FD3BHIUYIFPD                                0.015538       0.00   \n",
       "A9ESHA5MS6S6L                                 0.021066       0.00   \n",
       "A2D1LPEUCTNT8X                                0.017032       0.75   \n",
       "\n",
       "                GroupDesLike  MeanReviewsWithLikes  \\\n",
       "UserId                                               \n",
       "A264UDLWWRJ7X4          0.75              0.500000   \n",
       "A35VI0H5AFHOJ5          0.00              0.727273   \n",
       "A3FD3BHIUYIFPD          0.75              0.187500   \n",
       "A9ESHA5MS6S6L           0.75              0.181818   \n",
       "A2D1LPEUCTNT8X          0.00              0.538462   \n",
       "\n",
       "                MeanDiffUserScoreToProductScore  \\\n",
       "UserId                                            \n",
       "A264UDLWWRJ7X4                         0.204261   \n",
       "A35VI0H5AFHOJ5                         0.179244   \n",
       "A3FD3BHIUYIFPD                         0.157521   \n",
       "A9ESHA5MS6S6L                          0.218196   \n",
       "A2D1LPEUCTNT8X                         0.079549   \n",
       "\n",
       "                VarianceDiffUserScoreToProductScore  MeanLikeParticipation  \\\n",
       "UserId                                                                       \n",
       "A264UDLWWRJ7X4                             0.024405               0.326903   \n",
       "A35VI0H5AFHOJ5                             0.027029               0.375009   \n",
       "A3FD3BHIUYIFPD                             0.009040               0.003596   \n",
       "A9ESHA5MS6S6L                              0.008125               0.004861   \n",
       "A2D1LPEUCTNT8X                             0.012997               0.294747   \n",
       "\n",
       "                label  \n",
       "UserId                 \n",
       "A264UDLWWRJ7X4    2.0  \n",
       "A35VI0H5AFHOJ5    0.0  \n",
       "A3FD3BHIUYIFPD    1.0  \n",
       "A9ESHA5MS6S6L     1.0  \n",
       "A2D1LPEUCTNT8X    0.0  "
      ]
     },
     "execution_count": 61,
     "metadata": {
      "tags": []
     },
     "output_type": "execute_result"
    }
   ],
   "source": [
    "knn_regressor = KNeighborsRegressor(n_neighbors=30,weights = 'distance')\n",
    "knn_regressor.fit(train.drop(\"label\", axis = 1), train[\"label\"])\n",
    "\n",
    "test[\"label\"] = knn_regressor.predict(test.drop(\"label\", axis=1))\n",
    "\n",
    "test.head()"
   ]
  },
  {
   "cell_type": "markdown",
   "metadata": {
    "colab_type": "text",
    "id": "WnoW0QD7RDVS",
    "slideshow": {
     "slide_type": "subslide"
    }
   },
   "source": [
    "# KNN with clusters centroids"
   ]
  },
  {
   "cell_type": "code",
   "execution_count": 33,
   "metadata": {
    "colab": {
     "base_uri": "https://localhost:8080/",
     "height": 399
    },
    "colab_type": "code",
    "executionInfo": {
     "elapsed": 986,
     "status": "ok",
     "timestamp": 1545226241454,
     "user": {
      "displayName": "Francisco Neto",
      "photoUrl": "https://lh5.googleusercontent.com/-1SUFg21pUOs/AAAAAAAAAAI/AAAAAAAADio/Tl3fkhIuJI4/s64/photo.jpg",
      "userId": "00985066420011675306"
     },
     "user_tz": 180
    },
    "id": "fEIxA004RDVU",
    "outputId": "578fa715-9d42-42d0-b82d-e9aac78af308"
   },
   "outputs": [
    {
     "data": {
      "text/html": [
       "<div>\n",
       "<style scoped>\n",
       "    .dataframe tbody tr th:only-of-type {\n",
       "        vertical-align: middle;\n",
       "    }\n",
       "\n",
       "    .dataframe tbody tr th {\n",
       "        vertical-align: top;\n",
       "    }\n",
       "\n",
       "    .dataframe thead th {\n",
       "        text-align: right;\n",
       "    }\n",
       "</style>\n",
       "<table border=\"1\" class=\"dataframe\">\n",
       "  <thead>\n",
       "    <tr style=\"text-align: right;\">\n",
       "      <th></th>\n",
       "      <th>MeanTextSize</th>\n",
       "      <th>NumberProducts</th>\n",
       "      <th>MeanDifferenceScoreBySentimentRate</th>\n",
       "      <th>VarianceDifferenceScoreBySentimentRate</th>\n",
       "      <th>GroupLike</th>\n",
       "      <th>GroupDesLike</th>\n",
       "      <th>MeanReviewsWithLikes</th>\n",
       "      <th>MeanDiffUserScoreToProductScore</th>\n",
       "      <th>VarianceDiffUserScoreToProductScore</th>\n",
       "      <th>MeanLikeParticipation</th>\n",
       "      <th>label*</th>\n",
       "    </tr>\n",
       "    <tr>\n",
       "      <th>UserId</th>\n",
       "      <th></th>\n",
       "      <th></th>\n",
       "      <th></th>\n",
       "      <th></th>\n",
       "      <th></th>\n",
       "      <th></th>\n",
       "      <th></th>\n",
       "      <th></th>\n",
       "      <th></th>\n",
       "      <th></th>\n",
       "      <th></th>\n",
       "    </tr>\n",
       "  </thead>\n",
       "  <tbody>\n",
       "    <tr>\n",
       "      <th>A2CZ98V784SRJ0</th>\n",
       "      <td>0.140036</td>\n",
       "      <td>0.013514</td>\n",
       "      <td>0.260426</td>\n",
       "      <td>0.023886</td>\n",
       "      <td>0.25</td>\n",
       "      <td>0.50</td>\n",
       "      <td>0.357143</td>\n",
       "      <td>0.157236</td>\n",
       "      <td>0.026030</td>\n",
       "      <td>0.073040</td>\n",
       "      <td>2.576427</td>\n",
       "    </tr>\n",
       "    <tr>\n",
       "      <th>ASW22V6LI995Z</th>\n",
       "      <td>0.106322</td>\n",
       "      <td>0.006757</td>\n",
       "      <td>0.169470</td>\n",
       "      <td>0.013085</td>\n",
       "      <td>0.75</td>\n",
       "      <td>0.75</td>\n",
       "      <td>0.333333</td>\n",
       "      <td>0.182083</td>\n",
       "      <td>0.019662</td>\n",
       "      <td>0.119157</td>\n",
       "      <td>1.576513</td>\n",
       "    </tr>\n",
       "    <tr>\n",
       "      <th>A20P8VC55KPPCT</th>\n",
       "      <td>0.049982</td>\n",
       "      <td>0.030405</td>\n",
       "      <td>0.259399</td>\n",
       "      <td>0.004427</td>\n",
       "      <td>0.25</td>\n",
       "      <td>0.00</td>\n",
       "      <td>0.315789</td>\n",
       "      <td>0.069376</td>\n",
       "      <td>0.003019</td>\n",
       "      <td>0.047571</td>\n",
       "      <td>1.687280</td>\n",
       "    </tr>\n",
       "    <tr>\n",
       "      <th>A32T2H8150OJLU</th>\n",
       "      <td>0.294878</td>\n",
       "      <td>0.037162</td>\n",
       "      <td>0.208411</td>\n",
       "      <td>0.023228</td>\n",
       "      <td>0.50</td>\n",
       "      <td>0.75</td>\n",
       "      <td>0.428571</td>\n",
       "      <td>0.087497</td>\n",
       "      <td>0.008868</td>\n",
       "      <td>0.164299</td>\n",
       "      <td>1.968648</td>\n",
       "    </tr>\n",
       "    <tr>\n",
       "      <th>A2B7BUH8834Y6M</th>\n",
       "      <td>0.116401</td>\n",
       "      <td>0.027027</td>\n",
       "      <td>0.334158</td>\n",
       "      <td>0.005964</td>\n",
       "      <td>1.00</td>\n",
       "      <td>0.75</td>\n",
       "      <td>0.888889</td>\n",
       "      <td>0.044611</td>\n",
       "      <td>0.005148</td>\n",
       "      <td>0.783929</td>\n",
       "      <td>0.366318</td>\n",
       "    </tr>\n",
       "  </tbody>\n",
       "</table>\n",
       "</div>"
      ],
      "text/plain": [
       "                MeanTextSize  NumberProducts  \\\n",
       "UserId                                         \n",
       "A2CZ98V784SRJ0      0.140036        0.013514   \n",
       "ASW22V6LI995Z       0.106322        0.006757   \n",
       "A20P8VC55KPPCT      0.049982        0.030405   \n",
       "A32T2H8150OJLU      0.294878        0.037162   \n",
       "A2B7BUH8834Y6M      0.116401        0.027027   \n",
       "\n",
       "                MeanDifferenceScoreBySentimentRate  \\\n",
       "UserId                                               \n",
       "A2CZ98V784SRJ0                            0.260426   \n",
       "ASW22V6LI995Z                             0.169470   \n",
       "A20P8VC55KPPCT                            0.259399   \n",
       "A32T2H8150OJLU                            0.208411   \n",
       "A2B7BUH8834Y6M                            0.334158   \n",
       "\n",
       "                VarianceDifferenceScoreBySentimentRate  GroupLike  \\\n",
       "UserId                                                              \n",
       "A2CZ98V784SRJ0                                0.023886       0.25   \n",
       "ASW22V6LI995Z                                 0.013085       0.75   \n",
       "A20P8VC55KPPCT                                0.004427       0.25   \n",
       "A32T2H8150OJLU                                0.023228       0.50   \n",
       "A2B7BUH8834Y6M                                0.005964       1.00   \n",
       "\n",
       "                GroupDesLike  MeanReviewsWithLikes  \\\n",
       "UserId                                               \n",
       "A2CZ98V784SRJ0          0.50              0.357143   \n",
       "ASW22V6LI995Z           0.75              0.333333   \n",
       "A20P8VC55KPPCT          0.00              0.315789   \n",
       "A32T2H8150OJLU          0.75              0.428571   \n",
       "A2B7BUH8834Y6M          0.75              0.888889   \n",
       "\n",
       "                MeanDiffUserScoreToProductScore  \\\n",
       "UserId                                            \n",
       "A2CZ98V784SRJ0                         0.157236   \n",
       "ASW22V6LI995Z                          0.182083   \n",
       "A20P8VC55KPPCT                         0.069376   \n",
       "A32T2H8150OJLU                         0.087497   \n",
       "A2B7BUH8834Y6M                         0.044611   \n",
       "\n",
       "                VarianceDiffUserScoreToProductScore  MeanLikeParticipation  \\\n",
       "UserId                                                                       \n",
       "A2CZ98V784SRJ0                             0.026030               0.073040   \n",
       "ASW22V6LI995Z                              0.019662               0.119157   \n",
       "A20P8VC55KPPCT                             0.003019               0.047571   \n",
       "A32T2H8150OJLU                             0.008868               0.164299   \n",
       "A2B7BUH8834Y6M                             0.005148               0.783929   \n",
       "\n",
       "                  label*  \n",
       "UserId                    \n",
       "A2CZ98V784SRJ0  2.576427  \n",
       "ASW22V6LI995Z   1.576513  \n",
       "A20P8VC55KPPCT  1.687280  \n",
       "A32T2H8150OJLU  1.968648  \n",
       "A2B7BUH8834Y6M  0.366318  "
      ]
     },
     "execution_count": 33,
     "metadata": {
      "tags": []
     },
     "output_type": "execute_result"
    }
   ],
   "source": [
    "knn_regressor_centers = KNeighborsRegressor(n_neighbors = 2, weights = 'distance')\n",
    "knn_regressor_centers.fit(kmeans_model.cluster_centers_ , [0, 1, 2, 3])\n",
    "\n",
    "test_centroids[\"label*\"] = knn_regressor_centers.predict(test_centroids)\n",
    "print(kmeans_model.cluster_centers_)\n",
    "test_centroids.head(5)"
   ]
  }
 ],
 "metadata": {
  "celltoolbar": "Slideshow",
  "colab": {
   "collapsed_sections": [
    "JNGoF6MERDSY",
    "w8WqnwvhSrAY"
   ],
   "name": "presentation.ipynb",
   "provenance": [],
   "version": "0.3.2"
  },
  "kernelspec": {
   "display_name": "Python 3",
   "language": "python",
   "name": "python3"
  },
  "language_info": {
   "codemirror_mode": {
    "name": "ipython",
    "version": 3
   },
   "file_extension": ".py",
   "mimetype": "text/x-python",
   "name": "python",
   "nbconvert_exporter": "python",
   "pygments_lexer": "ipython3",
   "version": "3.6.7"
  }
 },
 "nbformat": 4,
 "nbformat_minor": 1
}
